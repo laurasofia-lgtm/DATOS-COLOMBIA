{
  "nbformat": 4,
  "nbformat_minor": 0,
  "metadata": {
    "colab": {
      "provenance": [],
      "mount_file_id": "1r-QXY_uyx5B-P_5JwrLIazZQZoxDmxW6",
      "authorship_tag": "ABX9TyMhhA7T7Fufrp+WvM5JXNAu",
      "include_colab_link": true
    },
    "kernelspec": {
      "name": "python3",
      "display_name": "Python 3"
    },
    "language_info": {
      "name": "python"
    }
  },
  "cells": [
    {
      "cell_type": "markdown",
      "metadata": {
        "id": "view-in-github",
        "colab_type": "text"
      },
      "source": [
        "<a href=\"https://colab.research.google.com/github/laurasofia-lgtm/DATOS-COLOMBIA/blob/main/datos_colombia.ipynb\" target=\"_parent\"><img src=\"https://colab.research.google.com/assets/colab-badge.svg\" alt=\"Open In Colab\"/></a>"
      ]
    },
    {
      "cell_type": "markdown",
      "source": [
        "# CONCATENAR"
      ],
      "metadata": {
        "id": "1ADGLOFeMpuz"
      }
    },
    {
      "cell_type": "code",
      "metadata": {
        "colab": {
          "base_uri": "https://localhost:8080/"
        },
        "id": "6237ff3e",
        "outputId": "37c8efec-3d36-43ef-b16b-b7b7f2a44d90"
      },
      "source": [
        "from google.colab import drive\n",
        "drive.mount('/content/drive')"
      ],
      "execution_count": 1,
      "outputs": [
        {
          "output_type": "stream",
          "name": "stdout",
          "text": [
            "Drive already mounted at /content/drive; to attempt to forcibly remount, call drive.mount(\"/content/drive\", force_remount=True).\n"
          ]
        }
      ]
    },
    {
      "cell_type": "code",
      "metadata": {
        "id": "c0b9fcf9"
      },
      "source": [
        "import pandas as pd\n",
        "\n",
        "df_2006_2018 = pd.read_excel(\"/content/drive/MyDrive/CIENCIA DE DATOS/2do CORTE/COLOMBIA/DATOS/datos_2006_2018.xlsx\")\n",
        "df_2019_2024 = pd.read_excel(\"/content/drive/MyDrive/CIENCIA DE DATOS/2do CORTE/COLOMBIA/DATOS/datos_2019_2024.xlsx\")"
      ],
      "execution_count": 2,
      "outputs": []
    },
    {
      "cell_type": "code",
      "metadata": {
        "colab": {
          "base_uri": "https://localhost:8080/",
          "height": 365
        },
        "id": "f60831ef",
        "outputId": "17ccb6c3-9521-42b9-f1d2-8a7d243aed68"
      },
      "source": [
        "df_combined = pd.concat([df_2006_2018, df_2019_2024], ignore_index=True)\n",
        "df_combined.head()"
      ],
      "execution_count": 3,
      "outputs": [
        {
          "output_type": "execute_result",
          "data": {
            "text/plain": [
              "   Código Dane departamento        Departamento  Código Dane municipio  \\\n",
              "0                        15              BOYACÁ                  15114   \n",
              "1                        25        CUNDINAMARCA                  25754   \n",
              "2                        25        CUNDINAMARCA                  25214   \n",
              "3                        54  NORTE DE SANTANDER                  54405   \n",
              "4                        54  NORTE DE SANTANDER                  54518   \n",
              "\n",
              "    Municipio Grupo cultivo Subgrupo Cultivo Desagregación cultivo   Año  \\\n",
              "0    BUSBANZA    HORTALIZAS   ACELGA  ACELGA                ACELGA  2006   \n",
              "1      SOACHA    HORTALIZAS   ACELGA  ACELGA                ACELGA  2006   \n",
              "2        COTA    HORTALIZAS   ACELGA  ACELGA                ACELGA  2006   \n",
              "3  LOS PATIOS    HORTALIZAS   ACELGA  ACELGA                ACELGA  2006   \n",
              "4    PAMPLONA    HORTALIZAS   ACELGA  ACELGA                ACELGA  2006   \n",
              "\n",
              "  Periodo  Área sembrada (ha)  Área cosechada (ha)  Producción (t)  \\\n",
              "0   2006B                 2.0                  1.0             1.0   \n",
              "1   2006B                82.0                 80.0          1440.0   \n",
              "2   2006B                 1.5                  1.5            26.0   \n",
              "3   2006B                 3.0                  3.0            48.0   \n",
              "4   2006B                 0.5                  0.5             5.0   \n",
              "\n",
              "   Rendimiento (t/ha) Estado físico del cultivo Nombre científico del cultivo  \\\n",
              "0            1.000000              FRUTO FRESCO                BETA VULGARIS    \n",
              "1           18.000000              FRUTO FRESCO                BETA VULGARIS    \n",
              "2           17.333333              FRUTO FRESCO                BETA VULGARIS    \n",
              "3           16.000000              FRUTO FRESCO                BETA VULGARIS    \n",
              "4           10.000000              FRUTO FRESCO                BETA VULGARIS    \n",
              "\n",
              "  Ciclo del cultivo  \n",
              "0       TRANSITORIO  \n",
              "1       TRANSITORIO  \n",
              "2       TRANSITORIO  \n",
              "3       TRANSITORIO  \n",
              "4       TRANSITORIO  "
            ],
            "text/html": [
              "\n",
              "  <div id=\"df-a50819c8-b87d-482a-b2b5-7e9f5f9224bf\" class=\"colab-df-container\">\n",
              "    <div>\n",
              "<style scoped>\n",
              "    .dataframe tbody tr th:only-of-type {\n",
              "        vertical-align: middle;\n",
              "    }\n",
              "\n",
              "    .dataframe tbody tr th {\n",
              "        vertical-align: top;\n",
              "    }\n",
              "\n",
              "    .dataframe thead th {\n",
              "        text-align: right;\n",
              "    }\n",
              "</style>\n",
              "<table border=\"1\" class=\"dataframe\">\n",
              "  <thead>\n",
              "    <tr style=\"text-align: right;\">\n",
              "      <th></th>\n",
              "      <th>Código Dane departamento</th>\n",
              "      <th>Departamento</th>\n",
              "      <th>Código Dane municipio</th>\n",
              "      <th>Municipio</th>\n",
              "      <th>Grupo cultivo</th>\n",
              "      <th>Subgrupo</th>\n",
              "      <th>Cultivo</th>\n",
              "      <th>Desagregación cultivo</th>\n",
              "      <th>Año</th>\n",
              "      <th>Periodo</th>\n",
              "      <th>Área sembrada (ha)</th>\n",
              "      <th>Área cosechada (ha)</th>\n",
              "      <th>Producción (t)</th>\n",
              "      <th>Rendimiento (t/ha)</th>\n",
              "      <th>Estado físico del cultivo</th>\n",
              "      <th>Nombre científico del cultivo</th>\n",
              "      <th>Ciclo del cultivo</th>\n",
              "    </tr>\n",
              "  </thead>\n",
              "  <tbody>\n",
              "    <tr>\n",
              "      <th>0</th>\n",
              "      <td>15</td>\n",
              "      <td>BOYACÁ</td>\n",
              "      <td>15114</td>\n",
              "      <td>BUSBANZA</td>\n",
              "      <td>HORTALIZAS</td>\n",
              "      <td>ACELGA</td>\n",
              "      <td>ACELGA</td>\n",
              "      <td>ACELGA</td>\n",
              "      <td>2006</td>\n",
              "      <td>2006B</td>\n",
              "      <td>2.0</td>\n",
              "      <td>1.0</td>\n",
              "      <td>1.0</td>\n",
              "      <td>1.000000</td>\n",
              "      <td>FRUTO FRESCO</td>\n",
              "      <td>BETA VULGARIS</td>\n",
              "      <td>TRANSITORIO</td>\n",
              "    </tr>\n",
              "    <tr>\n",
              "      <th>1</th>\n",
              "      <td>25</td>\n",
              "      <td>CUNDINAMARCA</td>\n",
              "      <td>25754</td>\n",
              "      <td>SOACHA</td>\n",
              "      <td>HORTALIZAS</td>\n",
              "      <td>ACELGA</td>\n",
              "      <td>ACELGA</td>\n",
              "      <td>ACELGA</td>\n",
              "      <td>2006</td>\n",
              "      <td>2006B</td>\n",
              "      <td>82.0</td>\n",
              "      <td>80.0</td>\n",
              "      <td>1440.0</td>\n",
              "      <td>18.000000</td>\n",
              "      <td>FRUTO FRESCO</td>\n",
              "      <td>BETA VULGARIS</td>\n",
              "      <td>TRANSITORIO</td>\n",
              "    </tr>\n",
              "    <tr>\n",
              "      <th>2</th>\n",
              "      <td>25</td>\n",
              "      <td>CUNDINAMARCA</td>\n",
              "      <td>25214</td>\n",
              "      <td>COTA</td>\n",
              "      <td>HORTALIZAS</td>\n",
              "      <td>ACELGA</td>\n",
              "      <td>ACELGA</td>\n",
              "      <td>ACELGA</td>\n",
              "      <td>2006</td>\n",
              "      <td>2006B</td>\n",
              "      <td>1.5</td>\n",
              "      <td>1.5</td>\n",
              "      <td>26.0</td>\n",
              "      <td>17.333333</td>\n",
              "      <td>FRUTO FRESCO</td>\n",
              "      <td>BETA VULGARIS</td>\n",
              "      <td>TRANSITORIO</td>\n",
              "    </tr>\n",
              "    <tr>\n",
              "      <th>3</th>\n",
              "      <td>54</td>\n",
              "      <td>NORTE DE SANTANDER</td>\n",
              "      <td>54405</td>\n",
              "      <td>LOS PATIOS</td>\n",
              "      <td>HORTALIZAS</td>\n",
              "      <td>ACELGA</td>\n",
              "      <td>ACELGA</td>\n",
              "      <td>ACELGA</td>\n",
              "      <td>2006</td>\n",
              "      <td>2006B</td>\n",
              "      <td>3.0</td>\n",
              "      <td>3.0</td>\n",
              "      <td>48.0</td>\n",
              "      <td>16.000000</td>\n",
              "      <td>FRUTO FRESCO</td>\n",
              "      <td>BETA VULGARIS</td>\n",
              "      <td>TRANSITORIO</td>\n",
              "    </tr>\n",
              "    <tr>\n",
              "      <th>4</th>\n",
              "      <td>54</td>\n",
              "      <td>NORTE DE SANTANDER</td>\n",
              "      <td>54518</td>\n",
              "      <td>PAMPLONA</td>\n",
              "      <td>HORTALIZAS</td>\n",
              "      <td>ACELGA</td>\n",
              "      <td>ACELGA</td>\n",
              "      <td>ACELGA</td>\n",
              "      <td>2006</td>\n",
              "      <td>2006B</td>\n",
              "      <td>0.5</td>\n",
              "      <td>0.5</td>\n",
              "      <td>5.0</td>\n",
              "      <td>10.000000</td>\n",
              "      <td>FRUTO FRESCO</td>\n",
              "      <td>BETA VULGARIS</td>\n",
              "      <td>TRANSITORIO</td>\n",
              "    </tr>\n",
              "  </tbody>\n",
              "</table>\n",
              "</div>\n",
              "    <div class=\"colab-df-buttons\">\n",
              "\n",
              "  <div class=\"colab-df-container\">\n",
              "    <button class=\"colab-df-convert\" onclick=\"convertToInteractive('df-a50819c8-b87d-482a-b2b5-7e9f5f9224bf')\"\n",
              "            title=\"Convert this dataframe to an interactive table.\"\n",
              "            style=\"display:none;\">\n",
              "\n",
              "  <svg xmlns=\"http://www.w3.org/2000/svg\" height=\"24px\" viewBox=\"0 -960 960 960\">\n",
              "    <path d=\"M120-120v-720h720v720H120Zm60-500h600v-160H180v160Zm220 220h160v-160H400v160Zm0 220h160v-160H400v160ZM180-400h160v-160H180v160Zm440 0h160v-160H620v160ZM180-180h160v-160H180v160Zm440 0h160v-160H620v160Z\"/>\n",
              "  </svg>\n",
              "    </button>\n",
              "\n",
              "  <style>\n",
              "    .colab-df-container {\n",
              "      display:flex;\n",
              "      gap: 12px;\n",
              "    }\n",
              "\n",
              "    .colab-df-convert {\n",
              "      background-color: #E8F0FE;\n",
              "      border: none;\n",
              "      border-radius: 50%;\n",
              "      cursor: pointer;\n",
              "      display: none;\n",
              "      fill: #1967D2;\n",
              "      height: 32px;\n",
              "      padding: 0 0 0 0;\n",
              "      width: 32px;\n",
              "    }\n",
              "\n",
              "    .colab-df-convert:hover {\n",
              "      background-color: #E2EBFA;\n",
              "      box-shadow: 0px 1px 2px rgba(60, 64, 67, 0.3), 0px 1px 3px 1px rgba(60, 64, 67, 0.15);\n",
              "      fill: #174EA6;\n",
              "    }\n",
              "\n",
              "    .colab-df-buttons div {\n",
              "      margin-bottom: 4px;\n",
              "    }\n",
              "\n",
              "    [theme=dark] .colab-df-convert {\n",
              "      background-color: #3B4455;\n",
              "      fill: #D2E3FC;\n",
              "    }\n",
              "\n",
              "    [theme=dark] .colab-df-convert:hover {\n",
              "      background-color: #434B5C;\n",
              "      box-shadow: 0px 1px 3px 1px rgba(0, 0, 0, 0.15);\n",
              "      filter: drop-shadow(0px 1px 2px rgba(0, 0, 0, 0.3));\n",
              "      fill: #FFFFFF;\n",
              "    }\n",
              "  </style>\n",
              "\n",
              "    <script>\n",
              "      const buttonEl =\n",
              "        document.querySelector('#df-a50819c8-b87d-482a-b2b5-7e9f5f9224bf button.colab-df-convert');\n",
              "      buttonEl.style.display =\n",
              "        google.colab.kernel.accessAllowed ? 'block' : 'none';\n",
              "\n",
              "      async function convertToInteractive(key) {\n",
              "        const element = document.querySelector('#df-a50819c8-b87d-482a-b2b5-7e9f5f9224bf');\n",
              "        const dataTable =\n",
              "          await google.colab.kernel.invokeFunction('convertToInteractive',\n",
              "                                                    [key], {});\n",
              "        if (!dataTable) return;\n",
              "\n",
              "        const docLinkHtml = 'Like what you see? Visit the ' +\n",
              "          '<a target=\"_blank\" href=https://colab.research.google.com/notebooks/data_table.ipynb>data table notebook</a>'\n",
              "          + ' to learn more about interactive tables.';\n",
              "        element.innerHTML = '';\n",
              "        dataTable['output_type'] = 'display_data';\n",
              "        await google.colab.output.renderOutput(dataTable, element);\n",
              "        const docLink = document.createElement('div');\n",
              "        docLink.innerHTML = docLinkHtml;\n",
              "        element.appendChild(docLink);\n",
              "      }\n",
              "    </script>\n",
              "  </div>\n",
              "\n",
              "\n",
              "    <div id=\"df-16ee613a-9786-4e73-ac8b-5ab12e3ff751\">\n",
              "      <button class=\"colab-df-quickchart\" onclick=\"quickchart('df-16ee613a-9786-4e73-ac8b-5ab12e3ff751')\"\n",
              "                title=\"Suggest charts\"\n",
              "                style=\"display:none;\">\n",
              "\n",
              "<svg xmlns=\"http://www.w3.org/2000/svg\" height=\"24px\"viewBox=\"0 0 24 24\"\n",
              "     width=\"24px\">\n",
              "    <g>\n",
              "        <path d=\"M19 3H5c-1.1 0-2 .9-2 2v14c0 1.1.9 2 2 2h14c1.1 0 2-.9 2-2V5c0-1.1-.9-2-2-2zM9 17H7v-7h2v7zm4 0h-2V7h2v10zm4 0h-2v-4h2v4z\"/>\n",
              "    </g>\n",
              "</svg>\n",
              "      </button>\n",
              "\n",
              "<style>\n",
              "  .colab-df-quickchart {\n",
              "      --bg-color: #E8F0FE;\n",
              "      --fill-color: #1967D2;\n",
              "      --hover-bg-color: #E2EBFA;\n",
              "      --hover-fill-color: #174EA6;\n",
              "      --disabled-fill-color: #AAA;\n",
              "      --disabled-bg-color: #DDD;\n",
              "  }\n",
              "\n",
              "  [theme=dark] .colab-df-quickchart {\n",
              "      --bg-color: #3B4455;\n",
              "      --fill-color: #D2E3FC;\n",
              "      --hover-bg-color: #434B5C;\n",
              "      --hover-fill-color: #FFFFFF;\n",
              "      --disabled-bg-color: #3B4455;\n",
              "      --disabled-fill-color: #666;\n",
              "  }\n",
              "\n",
              "  .colab-df-quickchart {\n",
              "    background-color: var(--bg-color);\n",
              "    border: none;\n",
              "    border-radius: 50%;\n",
              "    cursor: pointer;\n",
              "    display: none;\n",
              "    fill: var(--fill-color);\n",
              "    height: 32px;\n",
              "    padding: 0;\n",
              "    width: 32px;\n",
              "  }\n",
              "\n",
              "  .colab-df-quickchart:hover {\n",
              "    background-color: var(--hover-bg-color);\n",
              "    box-shadow: 0 1px 2px rgba(60, 64, 67, 0.3), 0 1px 3px 1px rgba(60, 64, 67, 0.15);\n",
              "    fill: var(--button-hover-fill-color);\n",
              "  }\n",
              "\n",
              "  .colab-df-quickchart-complete:disabled,\n",
              "  .colab-df-quickchart-complete:disabled:hover {\n",
              "    background-color: var(--disabled-bg-color);\n",
              "    fill: var(--disabled-fill-color);\n",
              "    box-shadow: none;\n",
              "  }\n",
              "\n",
              "  .colab-df-spinner {\n",
              "    border: 2px solid var(--fill-color);\n",
              "    border-color: transparent;\n",
              "    border-bottom-color: var(--fill-color);\n",
              "    animation:\n",
              "      spin 1s steps(1) infinite;\n",
              "  }\n",
              "\n",
              "  @keyframes spin {\n",
              "    0% {\n",
              "      border-color: transparent;\n",
              "      border-bottom-color: var(--fill-color);\n",
              "      border-left-color: var(--fill-color);\n",
              "    }\n",
              "    20% {\n",
              "      border-color: transparent;\n",
              "      border-left-color: var(--fill-color);\n",
              "      border-top-color: var(--fill-color);\n",
              "    }\n",
              "    30% {\n",
              "      border-color: transparent;\n",
              "      border-left-color: var(--fill-color);\n",
              "      border-top-color: var(--fill-color);\n",
              "      border-right-color: var(--fill-color);\n",
              "    }\n",
              "    40% {\n",
              "      border-color: transparent;\n",
              "      border-right-color: var(--fill-color);\n",
              "      border-top-color: var(--fill-color);\n",
              "    }\n",
              "    60% {\n",
              "      border-color: transparent;\n",
              "      border-right-color: var(--fill-color);\n",
              "    }\n",
              "    80% {\n",
              "      border-color: transparent;\n",
              "      border-right-color: var(--fill-color);\n",
              "      border-bottom-color: var(--fill-color);\n",
              "    }\n",
              "    90% {\n",
              "      border-color: transparent;\n",
              "      border-bottom-color: var(--fill-color);\n",
              "    }\n",
              "  }\n",
              "</style>\n",
              "\n",
              "      <script>\n",
              "        async function quickchart(key) {\n",
              "          const quickchartButtonEl =\n",
              "            document.querySelector('#' + key + ' button');\n",
              "          quickchartButtonEl.disabled = true;  // To prevent multiple clicks.\n",
              "          quickchartButtonEl.classList.add('colab-df-spinner');\n",
              "          try {\n",
              "            const charts = await google.colab.kernel.invokeFunction(\n",
              "                'suggestCharts', [key], {});\n",
              "          } catch (error) {\n",
              "            console.error('Error during call to suggestCharts:', error);\n",
              "          }\n",
              "          quickchartButtonEl.classList.remove('colab-df-spinner');\n",
              "          quickchartButtonEl.classList.add('colab-df-quickchart-complete');\n",
              "        }\n",
              "        (() => {\n",
              "          let quickchartButtonEl =\n",
              "            document.querySelector('#df-16ee613a-9786-4e73-ac8b-5ab12e3ff751 button');\n",
              "          quickchartButtonEl.style.display =\n",
              "            google.colab.kernel.accessAllowed ? 'block' : 'none';\n",
              "        })();\n",
              "      </script>\n",
              "    </div>\n",
              "\n",
              "    </div>\n",
              "  </div>\n"
            ],
            "application/vnd.google.colaboratory.intrinsic+json": {
              "type": "dataframe",
              "variable_name": "df_combined"
            }
          },
          "metadata": {},
          "execution_count": 3
        }
      ]
    },
    {
      "cell_type": "code",
      "metadata": {
        "id": "985bb40f"
      },
      "source": [
        "output_path = \"/content/drive/MyDrive/CIENCIA DE DATOS/2do CORTE/COLOMBIA/DATOS/datos_2006_2024.xlsx\"\n",
        "df_combined.to_excel(output_path, index=False)"
      ],
      "execution_count": 4,
      "outputs": []
    },
    {
      "cell_type": "markdown",
      "source": [
        "# HOMOGENIZACION\n"
      ],
      "metadata": {
        "id": "Z5akrBbWMY05"
      }
    },
    {
      "cell_type": "code",
      "metadata": {
        "colab": {
          "base_uri": "https://localhost:8080/"
        },
        "id": "f084f47c",
        "outputId": "dbcbe7d9-b354-44ab-aba3-e839fcb1a43f"
      },
      "source": [
        "for col in df_2019_2024.columns:\n",
        "    if df_2019_2024[col].dtype == 'object':\n",
        "        try:\n",
        "            df_2019_2024[col] = df_2019_2024[col].str.upper()\n",
        "        except AttributeError:\n",
        "            # Handle cases where the column might contain non-string values\n",
        "            pass\n",
        "\n",
        "output_path_2019_2024 = \"/content/drive/MyDrive/CIENCIA DE DATOS/2do CORTE/COLOMBIA/DATOS/datos_2019_2024.xlsx\"\n",
        "df_2019_2024.to_excel(output_path_2019_2024, index=False)\n",
        "\n",
        "print(f\"El archivo '{output_path_2019_2024}' ha sido guardado con éxito con todas las palabras en mayúsculas.\")"
      ],
      "execution_count": 6,
      "outputs": [
        {
          "output_type": "stream",
          "name": "stdout",
          "text": [
            "El archivo '/content/drive/MyDrive/CIENCIA DE DATOS/2do CORTE/COLOMBIA/DATOS/datos_2019_2024.xlsx' ha sido guardado con éxito con todas las palabras en mayúsculas.\n"
          ]
        }
      ]
    },
    {
      "cell_type": "markdown",
      "metadata": {
        "id": "3390373d"
      },
      "source": [
        "# ANALISIS EXPLORATORIO\n"
      ]
    },
    {
      "cell_type": "markdown",
      "metadata": {
        "id": "966f1a42"
      },
      "source": [
        "## Cantidad de filas y columnas\n",
        "\n",
        "\n"
      ]
    },
    {
      "cell_type": "code",
      "metadata": {
        "colab": {
          "base_uri": "https://localhost:8080/"
        },
        "id": "4de09583",
        "outputId": "5c4e6f52-91b1-4591-e38e-ff89740a2626"
      },
      "source": [
        "num_rows, num_cols = df_combined.shape\n",
        "print(f\"Número de filas: {num_rows}\")\n",
        "print(f\"Número de columnas: {num_cols}\")"
      ],
      "execution_count": 12,
      "outputs": [
        {
          "output_type": "stream",
          "name": "stdout",
          "text": [
            "Número de filas: 351920\n",
            "Número de columnas: 17\n"
          ]
        }
      ]
    },
    {
      "cell_type": "markdown",
      "metadata": {
        "id": "52b861d1"
      },
      "source": [
        "## Cantidad de datos faltantes por columna\n",
        "\n"
      ]
    },
    {
      "cell_type": "code",
      "metadata": {
        "colab": {
          "base_uri": "https://localhost:8080/"
        },
        "id": "dad7fb34",
        "outputId": "44d4890b-8aa3-4099-eb4f-36bf84247ff3"
      },
      "source": [
        "missing_values = df_combined.isnull().sum()\n",
        "print(\"Cantidad de datos faltantes por columna:\")\n",
        "print(missing_values)"
      ],
      "execution_count": 13,
      "outputs": [
        {
          "output_type": "stream",
          "name": "stdout",
          "text": [
            "Cantidad de datos faltantes por columna:\n",
            "Código Dane departamento             0\n",
            "Departamento                         0\n",
            "Código Dane municipio                0\n",
            "Municipio                            0\n",
            "Grupo cultivo                        0\n",
            "Subgrupo                             0\n",
            "Cultivo                              0\n",
            "Desagregación cultivo                0\n",
            "Año                                  0\n",
            "Periodo                          97231\n",
            "Área sembrada (ha)                   0\n",
            "Área cosechada (ha)                  0\n",
            "Producción (t)                       0\n",
            "Rendimiento (t/ha)                3558\n",
            "Estado físico del cultivo            0\n",
            "Nombre científico del cultivo     2983\n",
            "Ciclo del cultivo                    0\n",
            "dtype: int64\n"
          ]
        }
      ]
    },
    {
      "cell_type": "markdown",
      "metadata": {
        "id": "ca7b3a01"
      },
      "source": [
        "## Cantidad de cultivos\n",
        "\n"
      ]
    },
    {
      "cell_type": "code",
      "metadata": {
        "colab": {
          "base_uri": "https://localhost:8080/"
        },
        "id": "6ebc72a6",
        "outputId": "860bdd9e-bcde-4032-83c7-362509efcdee"
      },
      "source": [
        "unique_cultivos = df_combined['Cultivo'].nunique()\n",
        "print(f\"Cantidad de cultivos únicos: {unique_cultivos}\")"
      ],
      "execution_count": 14,
      "outputs": [
        {
          "output_type": "stream",
          "name": "stdout",
          "text": [
            "Cantidad de cultivos únicos: 270\n"
          ]
        }
      ]
    },
    {
      "cell_type": "markdown",
      "metadata": {
        "id": "90586b2e"
      },
      "source": [
        "## Top 10 cultivos con mayor área sembrada\n"
      ]
    },
    {
      "cell_type": "code",
      "metadata": {
        "colab": {
          "base_uri": "https://localhost:8080/",
          "height": 550
        },
        "id": "904c161a",
        "outputId": "3c67a9d5-06d9-465d-9326-eb7a17afdd69"
      },
      "source": [
        "import matplotlib.pyplot as plt\n",
        "\n",
        "cultivo_area = df_combined.groupby('Cultivo')['Área sembrada (ha)'].sum().sort_values(ascending=False)\n",
        "top_10_cultivos = cultivo_area.head(10)\n",
        "\n",
        "plt.figure(figsize=(12, 6))\n",
        "top_10_cultivos.plot(kind='bar', color='skyblue')\n",
        "plt.xlabel('Cultivo')\n",
        "plt.ylabel('Área sembrada (ha)')\n",
        "plt.title('Top 10 Cultivos con Mayor Área Sembrada')\n",
        "plt.xticks(rotation=45, ha='right')\n",
        "plt.tight_layout()\n",
        "plt.show()"
      ],
      "execution_count": 15,
      "outputs": [
        {
          "output_type": "display_data",
          "data": {
            "text/plain": [
              "<Figure size 1200x600 with 1 Axes>"
            ],
            "image/png": "[encoded data removed]"
          },
          "metadata": {}
        }
      ]
    }
  ]
}